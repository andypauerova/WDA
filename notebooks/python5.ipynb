{
 "cells": [
  {
   "cell_type": "markdown",
   "metadata": {},
   "source": [
    "## Pravidlá pre formátovanie\n",
    "\n",
    "Ak nebudete dodržiavať odsadzovanie, interpreter vypíše chybu a program nebude spustený. Aby ste zlepšili čitateľnosť vášho kódu, je dobré dodržiavať nasledujúce konvencie:\n",
    "\n",
    "* Rozhodnite sa ako budete ohraničovať reťazce a dodržiavajte jeden spôsob v celom kóde (ohraničenia môžete vymeniť ak reťazec obsahuje `'` alebo `\"` aby ste nemuseli používať `\\'` alebo `\\\"`).\n",
    "* Premenné a funkcie označujte názvami s malými písmenami. Viacslovné názvy oddeľujte `_` (napr. `process_data`).\n",
    "* Premenné, ktoré budú slúžiť v programe ako konštanty a ktoré sa nebudú pri spustení meniť pomenujte veľkými písmenami oddelenými `_` (napr. `DEFAULT_VALUE`).\n",
    "* Vždy oddeľte operátory `=`, `+=`, `-=`, `==`, `!=`, `<`, `>`, `<=`, `>=`, is, in a Boolovské spojky `or`, `and` a `not` medzerami (napr. `x < 10` namiesto `x<10`).\n",
    "* Vyhnite sa vkladaniu medzier hneď za/pred `[/]`, `(/)`, alebo `{/}` (napr. `x[10]` namiesto `x[ 10 ]`, `f(x)` namiesto `f( x )`, `{'x': 'y'}` namiesto `{ 'x' : 'y' }`).\n",
    "\n",
    "Ďalšie odporúčania nájdete [tu](https://www.python.org/dev/peps/pep-0008/) (v angličtine)."
   ]
  },
  {
   "cell_type": "markdown",
   "metadata": {},
   "source": [
    "## Funkcie"
   ]
  },
  {
   "cell_type": "markdown",
   "metadata": {},
   "source": [
    "Funkcie v Pythone definujete pomocou kľúčového slova `def` za ktorým nasleduje meno funkcie a zoznam parametrov v zátvorkách `()` oddelených čiarkou. Príkazy funkcie musia byť odsadené od začiatku riadku.\n",
    "\n",
    "Nasledujúci kód definuje funkciu `print_value` s jedným parametrom označeným `value`. Funkcia vypíše hodnotu `value` ak nie je prázdna, inak neurobí nič."
   ]
  },
  {
   "cell_type": "code",
   "execution_count": 1,
   "metadata": {},
   "outputs": [
    {
     "name": "stdout",
     "output_type": "stream",
     "text": [
      "123\n",
      "123\n"
     ]
    }
   ],
   "source": [
    "def print_value(value):\n",
    "    if value is None:\n",
    "        return # pre prázdnu hodnotu príkaz ‘return’ ukončí funkciu a nasledujúci print sa už nevykoná\n",
    "    print(value)\n",
    "    \n",
    "# zavoláme definovanú funkciu a predáme jej parameter value = 123\n",
    "print_value(123)\n",
    "print_value(None)\n",
    "print_value(\"123\")"
   ]
  },
  {
   "cell_type": "markdown",
   "metadata": {},
   "source": [
    "Funkcia `print_value` nevracia žiadnu hodnotu (jej návratová hodnota je vždy `None`). Ak chcete aby funkcia vrátila nejakú hodnotu, použite príkaz `return [hodnota]`, napr.:"
   ]
  },
  {
   "cell_type": "code",
   "execution_count": 3,
   "metadata": {},
   "outputs": [
    {
     "data": {
      "text/plain": [
       "14"
      ]
     },
     "execution_count": 3,
     "metadata": {},
     "output_type": "execute_result"
    }
   ],
   "source": [
    "def sum_squares(data):\n",
    "    \"\"\"Computes sum of squares of values for the specified sequence.\"\"\"       #toto je len dokumentacny komentar\n",
    "    if len(data) == 0:  # pre prázdny zoznam vrátime None\n",
    "        return None     # ‘return’ ukončí funkciu a ako návratovú hodnotu vráti hodnotu výrazu za slovom ‘return’\n",
    "    sumsq = 0\n",
    "    for x in data:\n",
    "        sumsq += x * x\n",
    "    return sumsq        # na konci vrátime sumu štvorcov prvkov zoznamu\n",
    "\n",
    "# zavoláme funkciu s parametrom data = [1, 2, 3] a jej návratovú hodnotu priradíme premennej x\n",
    "x = sum_squares([1, 2, 3])  # x = 14\n",
    "x"
   ]
  },
  {
   "cell_type": "markdown",
   "metadata": {},
   "source": [
    "Na prvom riadku funkcie `sum_squares` je tzv. dokumentačný reťazec  (v angličtine _docstring_), ktorý sa v Pythone používa na dokumentovanie kódu. Dokumentačné reťazce sú uvedené na prvom riadku definovanej funkcie pred ostatnými príkazmi, môžu mať viacero riadkov a sú ohraničené trojitými úvodzovkami `\"\"\"`. Pre funkcie je text reťazca odsadený od začiatku riadka rovnako ako príkazy funkcie. Túto konvenciu potom využívajú rôzne nástroje, ktoré napr. automaticky vyextrahujú HTML dokumentáciu pre všetky funkcie programu.\n",
    "\n",
    "Interpreter Pythonu má zabudovanú funkciu `help`, ktorá pre zadaný názov funkcie alebo modulu vypíše dokumentačný reťazec. Napr. po definovaní funkcie `sum_squares` z predchádzajúceho príkladu môžete vypísať jej dokumentáciu nasledujúcim príkazom:"
   ]
  },
  {
   "cell_type": "code",
   "execution_count": 4,
   "metadata": {},
   "outputs": [
    {
     "name": "stdout",
     "output_type": "stream",
     "text": [
      "Help on function sum_squares in module __main__:\n",
      "\n",
      "sum_squares(data)\n",
      "    Computes sum of squares of values for the specified sequence.\n",
      "\n"
     ]
    }
   ],
   "source": [
    "help(sum_squares)"
   ]
  },
  {
   "cell_type": "markdown",
   "metadata": {},
   "source": [
    "Ďalšie odporúčania pre písanie dokumentačných reťazcov nájdete [tu](https://www.python.org/dev/peps/pep-0257/) (v angličtine).\n",
    "\n",
    "Pre parametre funkcie môžete definovať **prednastavené hodnoty** a parameter potom môžete pri volaní vynechať napr. nasledujúca funkcia definuje prednastavenú hodnotu pre parametre `opr` a `none_value`. Všetky parametre s prednastavenými hodnotami musia byť uvedené až za nenastavenými parametrami."
   ]
  },
  {
   "cell_type": "code",
   "execution_count": null,
   "metadata": {},
   "outputs": [],
   "source": [
    "def print_operation(x, y, opr=\"+\", none_value=\"?\"):\n",
    "    val_x = none_value if x is None else str(x)     # do val_x sa priradí none_value ak je x None, inak sa priradí str(x)\n",
    "    val_y = none_value if y is None else str(y)     # podobne pre y\n",
    "    print(val_x + \" \" + opr + \" \" + val_y)"
   ]
  },
  {
   "cell_type": "markdown",
   "metadata": {},
   "source": [
    "Funkciu `print_operation` možno volať nasledujúcimi spôsobmi:"
   ]
  },
  {
   "cell_type": "code",
   "execution_count": null,
   "metadata": {},
   "outputs": [],
   "source": [
    "print_operation(1, None, \"*\", \"[none]\")     # vypíše ‘1 * [none]’\n",
    "print_operation(1, None, \"*\")               # vypíše ‘1 * ?’ - vynechali sme none_value\n",
    "print_operation(1, None)                    # vypíše ‘1 + ?’ - vynechali sme opr a none_value\n",
    "\n",
    "print_operation(x=1, opr=\"+\", y=2)          # nemusíte dodržiavať poradie parametrov a nepovinné parametre môžete vynechať\n",
    "# spôsoby môžete kombinovať, pričom najprv sú uvedené parametre podľa poradia a potom podľa mena\n",
    "print_operation(1, 2, none_value=\"[none]\")"
   ]
  },
  {
   "cell_type": "markdown",
   "metadata": {},
   "source": [
    "Všimnite si výnimku z odporúčaní pre formátovanie, pre prednastavené hodnoty parametrov sa neodporúča oddeliť názov parametra a hodnotu od `=` medzerou.\n",
    "Okrem uvedenia parametrov v poradí môžete pri volaní funkcie nastaviť parametre podľa ich mena, napr.:"
   ]
  },
  {
   "cell_type": "code",
   "execution_count": null,
   "metadata": {},
   "outputs": [],
   "source": [
    "print_operation(x=1, opr=\"+\", y=2)          # nemusíte dodržiavať poradie parametrov a nepovinné parametre môžete vynechať\n",
    "# spôsoby môžete kombinovať, pričom najprv sú uvedené parametre podľa poradia a potom podľa mena\n",
    "print_operation(1, 2, none_value=\"[none]\")"
   ]
  },
  {
   "cell_type": "markdown",
   "metadata": {},
   "source": [
    "Funkciu môžete definovať aj s **premenlivým počtom parametrov**, napr.:"
   ]
  },
  {
   "cell_type": "code",
   "execution_count": 6,
   "metadata": {},
   "outputs": [
    {
     "name": "stdout",
     "output_type": "stream",
     "text": [
      "basket: []\n",
      "basket: [apple, orange, banana]\n"
     ]
    }
   ],
   "source": [
    "def print_list(name, *args):                     # všetky parametre za prvým budú funkcii predané ako n-tica args\n",
    "    print(name + \": [\" + \", \".join(args) + \"]\")  # prvky args spojíme oddeľovačom ‘, ’\n",
    "    \n",
    "# funkciu potom možno volať s ľubovoľným počtom parametrov uvedeným za name, napr.\n",
    "print_list(\"basket\")                            # vypíše ‘basket: []’\n",
    "print_list(\"basket\", \"apple\", \"orange\", \"banana\")         # vypíše ‘basket: [apple, orange]’"
   ]
  },
  {
   "cell_type": "markdown",
   "metadata": {},
   "source": [
    "## Úlohy"
   ]
  },
  {
   "cell_type": "markdown",
   "metadata": {},
   "source": [
    "### Úloha 5.1\n",
    "\n",
    "Napíšte funkciu `find_value(l, value)`, ktorá vráti pozíciu prvého výskytu prvku zoznamu `l` so zadanou hodnotou `value`, alebo -1 ak sa taký prvok v zozname nenachádza. Pri riešení využite kód z úlohy 3.6."
   ]
  },
  {
   "cell_type": "code",
   "execution_count": 1,
   "metadata": {},
   "outputs": [
    {
     "name": "stdout",
     "output_type": "stream",
     "text": [
      "2\n"
     ]
    }
   ],
   "source": [
    "def find_value(l, value):  #jedno riesenie\n",
    "    index = -1\n",
    "    for i, v in enumerate(l):\n",
    "        if v == value:\n",
    "            index = i\n",
    "            break\n",
    "    return index\n",
    "\n",
    "i = find_value(range(1,11), 2)\n",
    "i\n",
    "\n",
    "\n",
    "def find_value(l, value):    #druhe riesenie\n",
    "    for i, v in enumerate(l):\n",
    "        if v == value:\n",
    "            return i\n",
    "    return -1\n",
    "\n",
    "i = find_value(range(1,11), 2)\n",
    "i\n",
    "\n",
    "\n",
    "numbers = [0, 1, 2, 3]\n",
    "i = find_value(numbers, 2)\n",
    "i = find_value ([], 2)\n",
    "i = find_value(numbers, value = 2)\n",
    "i = find_value(l = numbers, value = 2)\n",
    "i = find_value(value = 2, l = numbers)\n",
    "print(i)"
   ]
  },
  {
   "cell_type": "markdown",
   "metadata": {},
   "source": [
    "### Úloha 5.2\n",
    "Napíšte funkciu `count_values(l)`, ktorá spočíta koľkokrát sa vyskytovali rôzne hodnoty v zozname `l` a vráti mapu s dvojicami (hodnota, početnosť). Pri riešení využite kód z úlohy 4.3."
   ]
  },
  {
   "cell_type": "code",
   "execution_count": 9,
   "metadata": {},
   "outputs": [
    {
     "data": {
      "text/plain": [
       "{4: 1}"
      ]
     },
     "execution_count": 9,
     "metadata": {},
     "output_type": "execute_result"
    }
   ],
   "source": [
    "def count_values(l):\n",
    "    counts = {}\n",
    "    for v in l:\n",
    "        if v in counts:\n",
    "            counts[v] += 1\n",
    "    else:\n",
    "        counts[v] = 1\n",
    "    return counts\n",
    "\n",
    "c = count_values([1,2,1,2,3,3,4,4,4])\n",
    "c"
   ]
  },
  {
   "cell_type": "markdown",
   "metadata": {},
   "source": [
    "### Úloha 5.3\n",
    "\n",
    "Upravte funkciu `find_values` z úlohy 5.1 tak, že pridáte parameter `default_index` s prednastavenou hodnotou -1, ktorého hodnota sa vráti ak sa hodnota `value` v zozname nenájde.  "
   ]
  },
  {
   "cell_type": "code",
   "execution_count": 34,
   "metadata": {},
   "outputs": [
    {
     "name": "stdout",
     "output_type": "stream",
     "text": [
      "None\n"
     ]
    }
   ],
   "source": [
    "def find_value(l, value, default_index=-1):    #druhe riesenie\n",
    "    for i, v in enumerate(l):\n",
    "        if v == value:\n",
    "            return i\n",
    "    return default_index\n",
    "\n",
    "i = find_value([], 2)\n",
    "i = find_value([], 2, default_index=None)\n",
    "print(i)"
   ]
  },
  {
   "cell_type": "markdown",
   "metadata": {},
   "source": [
    "### Úloha 5.4\n",
    "\n",
    "Rozdeľte riešenie úlohy 3.10 na jednoduchšie podúlohy pre ktoré naprogramujte potrebné funkcie."
   ]
  },
  {
   "cell_type": "code",
   "execution_count": 13,
   "metadata": {},
   "outputs": [
    {
     "ename": "NameError",
     "evalue": "name 'rows' is not defined",
     "output_type": "error",
     "traceback": [
      "\u001b[1;31m---------------------------------------------------------------------------\u001b[0m",
      "\u001b[1;31mNameError\u001b[0m                                 Traceback (most recent call last)",
      "\u001b[1;32m<ipython-input-13-978997b00764>\u001b[0m in \u001b[0;36m<module>\u001b[1;34m\u001b[0m\n\u001b[0;32m     14\u001b[0m         \u001b[1;32mreturn\u001b[0m \u001b[1;33m(\u001b[0m\u001b[0mmin\u001b[0m\u001b[1;33m,\u001b[0m \u001b[0mmax\u001b[0m\u001b[1;33m,\u001b[0m \u001b[0mavg\u001b[0m\u001b[1;33m)\u001b[0m\u001b[1;33m\u001b[0m\u001b[1;33m\u001b[0m\u001b[0m\n\u001b[0;32m     15\u001b[0m \u001b[1;33m\u001b[0m\u001b[0m\n\u001b[1;32m---> 16\u001b[1;33m \u001b[0mstarts\u001b[0m \u001b[1;33m=\u001b[0m \u001b[0mcount_starts\u001b[0m\u001b[1;33m(\u001b[0m\u001b[0mrows\u001b[0m\u001b[1;33m,\u001b[0m \u001b[1;36m0\u001b[0m\u001b[1;33m)\u001b[0m\u001b[1;33m\u001b[0m\u001b[1;33m\u001b[0m\u001b[0m\n\u001b[0m\u001b[0;32m     17\u001b[0m \u001b[0mmin\u001b[0m \u001b[1;33m=\u001b[0m \u001b[0mstarts\u001b[0m\u001b[1;33m[\u001b[0m\u001b[1;36m0\u001b[0m\u001b[1;33m]\u001b[0m\u001b[1;33m\u001b[0m\u001b[1;33m\u001b[0m\u001b[0m\n\u001b[0;32m     18\u001b[0m \u001b[0mmax\u001b[0m \u001b[1;33m=\u001b[0m \u001b[0mstarts\u001b[0m \u001b[1;33m[\u001b[0m\u001b[1;36m1\u001b[0m\u001b[1;33m]\u001b[0m\u001b[1;33m\u001b[0m\u001b[1;33m\u001b[0m\u001b[0m\n",
      "\u001b[1;31mNameError\u001b[0m: name 'rows' is not defined"
     ]
    }
   ],
   "source": [
    "def count_starts(rows, column):\n",
    "    sum = 0\n",
    "    min = None\n",
    "    max = None\n",
    "    for row in rows:\n",
    "        value = row[column]\n",
    "        if value is None:\n",
    "            continue\n",
    "        if min is None or value < min:\n",
    "            min = value\n",
    "        if max is None or value > max:\n",
    "            max = value\n",
    "        sum += sum / len(row)\n",
    "        return (min, max, avg)\n",
    "    \n",
    "starts = count_starts(rows, 0)\n",
    "min = starts[0]\n",
    "max = starts [1]\n",
    "\n",
    "min, max, avg = count_starts(rows, 0)"
   ]
  },
  {
   "cell_type": "markdown",
   "metadata": {},
   "source": [
    "### Úloha 5.5\n",
    "\n",
    "Rozdeľte riešenie úlohy 4.5 na jednoduchšie podúlohy pre ktoré naprogramujte potrebné funkcie."
   ]
  },
  {
   "cell_type": "code",
   "execution_count": null,
   "metadata": {},
   "outputs": [],
   "source": []
  }
 ],
 "metadata": {
  "kernelspec": {
   "display_name": "Python 3",
   "language": "python",
   "name": "python3"
  },
  "language_info": {
   "codemirror_mode": {
    "name": "ipython",
    "version": 3
   },
   "file_extension": ".py",
   "mimetype": "text/x-python",
   "name": "python",
   "nbconvert_exporter": "python",
   "pygments_lexer": "ipython3",
   "version": "3.7.1"
  }
 },
 "nbformat": 4,
 "nbformat_minor": 2
}
